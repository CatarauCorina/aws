{
 "cells": [
  {
   "cell_type": "markdown",
   "metadata": {},
   "source": [
    "## Create an AWS account\n",
    "\n",
    "\n",
    "There's a whole lot of AWS that you can use for free for the first 12 months: https://aws.amazon.com/free\n"
   ]
  },
  {
   "cell_type": "markdown",
   "metadata": {
    "nbpresent": {
     "id": "68953089-b5c3-409c-abce-d68840b676a7"
    }
   },
   "source": [
    "## Install the Python SDK aka boto3\n",
    "\n",
    "boto3 is the AWS SDK for Python:\n",
    "https://github.com/boto/boto3\n",
    "https://boto3.readthedocs.io\n",
    "\n",
    "```$ pip install --upgrade pip\n",
    "$ pip install boto3```\n",
    "\n",
    "Let's run a couple of call to make sure it's properly installed."
   ]
  },
  {
   "cell_type": "markdown",
   "metadata": {
    "nbpresent": {
     "id": "cf04a118-2d72-4c19-b6ea-0c3dc1d7ee70"
    }
   },
   "source": [
    "## Install the AWS CLI\n",
    "\n",
    "https://docs.aws.amazon.com/cli/latest/userguide/installing.html\n",
    "\n",
    "If you're using 'pip'(https://pip.pypa.io):\n",
    "```\n",
    "$ pip install awscli\n",
    "$ pip install --upgrade pip\n",
    "```\n",
    "\n",
    "For MacOS users, the best solution is to use Homebrew (http://brew.sh/):\n",
    "\n",
    "```$ brew install awscli\n",
    "$ brew upgrade awscli```"
   ]
  },
  {
   "cell_type": "markdown",
   "metadata": {
    "nbpresent": {
     "id": "5b733054-633d-416a-8594-f01b60d085be"
    }
   },
   "source": [
    "## Configure the AWS CLI\n",
    "\n",
    "You'll need the access and secret keys of a valid IAM user.\n",
    "\n",
    "```\n",
    "$ aws configure\n",
    "```\n",
    "Credentials are stored in ~/.aws/credentials. Multiple named profiles can stored and later used with the --profile option.\n"
   ]
  },
  {
   "cell_type": "markdown",
   "metadata": {
    "nbpresent": {
     "id": "758c5f9c-a046-4220-8308-275e70ed8d15"
    }
   },
   "source": [
    "Check the AWS CLI\n",
    "\n",
    "Let's run some quick calls:\n",
    "\n",
    "```$ aws s3 help\n",
    "$ aws s3 mb help\n",
    "$ aws s3 mb s3://lastname-firstname-myfirstbucket\n",
    "$ aws s3 ls\n",
    "$ aws s3 rb s3://lastname-firstname-myfirstbucket```"
   ]
  },
  {
   "cell_type": "markdown",
   "metadata": {
    "nbpresent": {
     "id": "08ac1fd2-0c2a-441d-98cf-1638718a9744"
    }
   },
   "source": [
    "## Optional: install aws-shell\n",
    "\n",
    "aws-shell is an integrated shell for working with the AWS CLI:\n",
    "https://github.com/awslabs/aws-shell\n",
    "\n",
    "```\n",
    "$ pip install aws-shell\n",
    "```"
   ]
  },
  {
   "cell_type": "markdown",
   "metadata": {},
   "source": [
    "## Running our first boto3 script\n",
    "\n",
    "https://boto3.readthedocs.io/en/latest/reference/services/s3.html"
   ]
  },
  {
   "cell_type": "code",
   "execution_count": 1,
   "metadata": {
    "collapsed": false,
    "nbpresent": {
     "id": "4743a106-0ab9-4851-9c86-3c625b3e8ce4"
    },
    "scrolled": true
   },
   "outputs": [
    {
     "name": "stdout",
     "output_type": "stream",
     "text": [
      "{u'Owner': {u'DisplayName': 'julsimon', u'ID': 'f896f5ee7488c106c556b3543d2188f34d573a6f5a42f7f2656d11c0bcf6ff85'}, u'Buckets': [{u'CreationDate': datetime.datetime(2016, 5, 10, 10, 13, 29, tzinfo=tzlocal()), u'Name': 'akiaizgq4clznbqcgcia-arq'}, {u'CreationDate': datetime.datetime(2016, 12, 1, 16, 18, 23, tzinfo=tzlocal()), u'Name': 'aws-athena-query-results-613904931467-us-east-1'}, {u'CreationDate': datetime.datetime(2016, 3, 7, 12, 52, 4, tzinfo=tzlocal()), u'Name': 'aws-logs-613904931467-eu-west-1'}, {u'CreationDate': datetime.datetime(2016, 3, 7, 10, 46, 25, tzinfo=tzlocal()), u'Name': 'aws-logs-613904931467-us-east-1'}, {u'CreationDate': datetime.datetime(2015, 12, 7, 13, 8, 8, tzinfo=tzlocal()), u'Name': 'cf-templates-lrxaek2fyyzf-eu-west-1'}, {u'CreationDate': datetime.datetime(2016, 4, 12, 8, 51, 4, tzinfo=tzlocal()), u'Name': 'cf-templates-lrxaek2fyyzf-us-east-1'}, {u'CreationDate': datetime.datetime(2016, 12, 12, 10, 6, 17, tzinfo=tzlocal()), u'Name': 'cloudtrail-jsimon-allregions'}, {u'CreationDate': datetime.datetime(2017, 1, 18, 13, 33, 32, tzinfo=tzlocal()), u'Name': 'codepipeline-us-east-1-605134680688'}, {u'CreationDate': datetime.datetime(2015, 10, 21, 12, 45, 37, tzinfo=tzlocal()), u'Name': 'config-bucket-613904931467'}, {u'CreationDate': datetime.datetime(2016, 10, 4, 14, 23, 34, tzinfo=tzlocal()), u'Name': 'demo-us-east-1-613904931467-app-name'}, {u'CreationDate': datetime.datetime(2016, 8, 29, 12, 17, 36, tzinfo=tzlocal()), u'Name': 'devhubtest1-codepipeline-us-east-1-613904931467'}, {u'CreationDate': datetime.datetime(2017, 1, 19, 7, 23, 16, tzinfo=tzlocal()), u'Name': 'ecs-cd-deploymentpipeline-47fb5wwa-artifactbucket-1dpwh80z8llwt'}, {u'CreationDate': datetime.datetime(2016, 2, 14, 16, 1, 9, tzinfo=tzlocal()), u'Name': 'elasticbeanstalk-eu-west-1-613904931467'}, {u'CreationDate': datetime.datetime(2016, 2, 15, 13, 5, 7, tzinfo=tzlocal()), u'Name': 'elasticbeanstalk-us-east-1-613904931467'}, {u'CreationDate': datetime.datetime(2016, 12, 5, 17, 46, 41, tzinfo=tzlocal()), u'Name': 'jsimon-athena'}, {u'CreationDate': datetime.datetime(2016, 7, 11, 16, 41, 53, tzinfo=tzlocal()), u'Name': 'jsimon-backup'}, {u'CreationDate': datetime.datetime(2017, 1, 18, 10, 34, 2, tzinfo=tzlocal()), u'Name': 'jsimon-codebuild-demo'}, {u'CreationDate': datetime.datetime(2017, 1, 13, 14, 49, 25, tzinfo=tzlocal()), u'Name': 'jsimon-edge-demo'}, {u'CreationDate': datetime.datetime(2016, 3, 26, 15, 54, 24, tzinfo=tzlocal()), u'Name': 'jsimon-lambda-functions'}, {u'CreationDate': datetime.datetime(2016, 3, 8, 9, 43, 50, tzinfo=tzlocal()), u'Name': 'jsimon-ml-demo'}, {u'CreationDate': datetime.datetime(2016, 6, 5, 7, 59, 37, tzinfo=tzlocal()), u'Name': 'jsimon-mustache-deploy'}, {u'CreationDate': datetime.datetime(2016, 6, 5, 8, 0, 5, tzinfo=tzlocal()), u'Name': 'jsimon-mustache-process'}, {u'CreationDate': datetime.datetime(2016, 6, 5, 7, 59, 57, tzinfo=tzlocal()), u'Name': 'jsimon-mustache-web'}, {u'CreationDate': datetime.datetime(2015, 11, 2, 13, 10, 45, tzinfo=tzlocal()), u'Name': 'jsimon-public'}, {u'CreationDate': datetime.datetime(2016, 12, 8, 15, 19, 21, tzinfo=tzlocal()), u'Name': 'jsimon-public-us'}, {u'CreationDate': datetime.datetime(2015, 12, 21, 9, 23, 38, tzinfo=tzlocal()), u'Name': 'jsimon-redshift-demo'}, {u'CreationDate': datetime.datetime(2016, 12, 7, 8, 53, 27, tzinfo=tzlocal()), u'Name': 'jsimon-redshift-demo-us'}, {u'CreationDate': datetime.datetime(2016, 4, 1, 6, 58, 21, tzinfo=tzlocal()), u'Name': 'jsimon-static'}, {u'CreationDate': datetime.datetime(2017, 1, 24, 14, 4, 9, tzinfo=tzlocal()), u'Name': 'lastname-firstname-mysecondbucket'}, {u'CreationDate': datetime.datetime(2016, 12, 8, 18, 48, 31, tzinfo=tzlocal()), u'Name': 'store-your-files-in-canada'}], 'ResponseMetadata': {'HTTPStatusCode': 200, 'RetryAttempts': 0, 'HostId': 'sYp8kXb4fca+3wpX31uTs5iY4RkRw4ML4Q5EzTckp4QLENwoOkhyKM3wwwZKPfPWLqFfcWFAHrU=', 'RequestId': '06B3195F1E6D003E', 'HTTPHeaders': {'x-amz-id-2': 'sYp8kXb4fca+3wpX31uTs5iY4RkRw4ML4Q5EzTckp4QLENwoOkhyKM3wwwZKPfPWLqFfcWFAHrU=', 'server': 'AmazonS3', 'transfer-encoding': 'chunked', 'x-amz-request-id': '06B3195F1E6D003E', 'date': 'Tue, 24 Jan 2017 14:04:09 GMT', 'content-type': 'application/xml'}}}\n"
     ]
    },
    {
     "data": {
      "text/plain": [
       "{'ResponseMetadata': {'HTTPHeaders': {'date': 'Tue, 24 Jan 2017 14:04:10 GMT',\n",
       "   'server': 'AmazonS3',\n",
       "   'x-amz-id-2': 'kwjLb+WqLBYBsPhQ8WNnrUXF1tsa803dr+onbfZqZGiMp6g5cJ2ZiJuJqFTHLGeWrpcufS/Unoc=',\n",
       "   'x-amz-request-id': 'ABFF53E4644C81D0'},\n",
       "  'HTTPStatusCode': 204,\n",
       "  'HostId': 'kwjLb+WqLBYBsPhQ8WNnrUXF1tsa803dr+onbfZqZGiMp6g5cJ2ZiJuJqFTHLGeWrpcufS/Unoc=',\n",
       "  'RequestId': 'ABFF53E4644C81D0',\n",
       "  'RetryAttempts': 0}}"
      ]
     },
     "execution_count": 1,
     "metadata": {},
     "output_type": "execute_result"
    }
   ],
   "source": [
    "import boto3\n",
    "\n",
    "s3_client = boto3.client('s3')\n",
    "s3_client.create_bucket(Bucket='lastname-firstname-mysecondbucket')\n",
    "buckets = s3_client.list_buckets()\n",
    "print buckets\n",
    "s3_client.delete_bucket(Bucket='lastname-firstname-mysecondbucket')"
   ]
  },
  {
   "cell_type": "markdown",
   "metadata": {
    "collapsed": true
   },
   "source": [
    "You're in the cloud, baby. Yeah!"
   ]
  }
 ],
 "metadata": {
  "anaconda-cloud": {},
  "kernelspec": {
   "display_name": "Python [default]",
   "language": "python",
   "name": "python2"
  },
  "language_info": {
   "codemirror_mode": {
    "name": "ipython",
    "version": 2
   },
   "file_extension": ".py",
   "mimetype": "text/x-python",
   "name": "python",
   "nbconvert_exporter": "python",
   "pygments_lexer": "ipython2",
   "version": "2.7.12"
  }
 },
 "nbformat": 4,
 "nbformat_minor": 1
}
